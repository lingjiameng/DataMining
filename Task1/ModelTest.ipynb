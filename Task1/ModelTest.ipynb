{
 "cells": [
  {
   "cell_type": "code",
   "execution_count": 1,
   "metadata": {},
   "outputs": [],
   "source": [
    "#%%\n",
    "import numpy as np \n",
    "import pandas as pd \n",
    "from sklearn.ensemble import RandomForestRegressor\n",
    "from sklearn.neural_network import MLPRegressor\n",
    "from sklearn.model_selection import GridSearchCV"
   ]
  },
  {
   "cell_type": "code",
   "execution_count": 2,
   "metadata": {},
   "outputs": [],
   "source": [
    "#%% hyperparameter\n",
    "TRAIN_SIZE = 9000\n",
    "# UpdateTime is an time string"
   ]
  },
  {
   "cell_type": "code",
   "execution_count": 3,
   "metadata": {},
   "outputs": [],
   "source": [
    "#%% get tain_data and test_data\n",
    "data = pd.read_csv(\"sample10000.csv\").drop(labels=\"UpdateTime\",axis=1).to_numpy()\n",
    "labels = pd.read_csv(\"labels10000.csv\").to_numpy()[:,0]\n",
    "\n",
    "train_data = data[:TRAIN_SIZE]\n",
    "test_data = data[TRAIN_SIZE:]\n",
    "\n",
    "train_labels = labels[:TRAIN_SIZE]\n",
    "test_labels = labels[TRAIN_SIZE:]"
   ]
  },
  {
   "cell_type": "code",
   "execution_count": 4,
   "metadata": {},
   "outputs": [],
   "source": [
    "def model_score(model):\n",
    "    #%% predict and score\n",
    "    err = (test_labels -  model.predict(test_data))\n",
    "    sqerr = (err*err).sum()\n",
    "    # print(regr.get_params())\n",
    "    #print(\"OOB score\",regr.oob_score_)\n",
    "    print(\"R^2 for train data :\",model.score(train_data,train_labels))\n",
    "    print(\"R^2 for test data :\",model.score(test_data, test_labels))\n",
    "    print(\"squre error:\",sqerr)"
   ]
  },
  {
   "cell_type": "code",
   "execution_count": 12,
   "metadata": {},
   "outputs": [
    {
     "data": {
      "text/plain": [
       "RandomForestRegressor(bootstrap=True, criterion='mse', max_depth=None,\n",
       "           max_features='auto', max_leaf_nodes=None,\n",
       "           min_impurity_decrease=0.0, min_impurity_split=None,\n",
       "           min_samples_leaf=1, min_samples_split=2,\n",
       "           min_weight_fraction_leaf=0.0, n_estimators=200, n_jobs=None,\n",
       "           oob_score=True, random_state=None, verbose=0, warm_start=False)"
      ]
     },
     "execution_count": 12,
     "metadata": {},
     "output_type": "execute_result"
    }
   ],
   "source": [
    "#%% define model and train\n",
    "regr = RandomForestRegressor(n_estimators=200,oob_score=True)\n",
    "regr.fit(train_data,train_labels)"
   ]
  },
  {
   "cell_type": "code",
   "execution_count": 13,
   "metadata": {},
   "outputs": [
    {
     "name": "stdout",
     "output_type": "stream",
     "text": [
      "R^2 for train data : 0.8671902255542736\n",
      "R^2 for test data : -0.06543081692032238\n",
      "squre error: 309.73215000000005\n"
     ]
    }
   ],
   "source": [
    "model_score(regr)\n",
    "# R^2 for train data : 0.8658618241928562\n",
    "# R^2 for test data : -0.07898389513463266\n",
    "# squre error: 313.67217500000004"
   ]
  },
  {
   "cell_type": "code",
   "execution_count": 5,
   "metadata": {},
   "outputs": [
    {
     "name": "stdout",
     "output_type": "stream",
     "text": [
      "Iteration 1, loss = 0.16916672\n",
      "Iteration 2, loss = 0.15755954\n",
      "Iteration 3, loss = 0.15757247\n",
      "Iteration 4, loss = 0.15757203\n",
      "Iteration 5, loss = 0.15751568\n",
      "Iteration 6, loss = 0.15748788\n",
      "Iteration 7, loss = 0.15754799\n",
      "Iteration 8, loss = 0.15755576\n",
      "Iteration 9, loss = 0.15752452\n",
      "Iteration 10, loss = 0.15747236\n",
      "Iteration 11, loss = 0.15756661\n",
      "Iteration 12, loss = 0.15757341\n",
      "Iteration 13, loss = 0.15761064\n",
      "Training loss did not improve more than tol=0.000100 for 10 consecutive epochs. Stopping.\n"
     ]
    },
    {
     "data": {
      "text/plain": [
       "MLPRegressor(activation='logistic', alpha=0.0001, batch_size='auto',\n",
       "       beta_1=0.9, beta_2=0.999, early_stopping=False, epsilon=1e-08,\n",
       "       hidden_layer_sizes=10, learning_rate='constant',\n",
       "       learning_rate_init=0.001, max_iter=200, momentum=0.9,\n",
       "       n_iter_no_change=10, nesterovs_momentum=True, power_t=0.5,\n",
       "       random_state=None, shuffle=True, solver='adam', tol=0.0001,\n",
       "       validation_fraction=0.1, verbose=True, warm_start=False)"
      ]
     },
     "execution_count": 5,
     "metadata": {},
     "output_type": "execute_result"
    }
   ],
   "source": [
    "#%% define DNN(MLPregressor)\n",
    "mlpr = MLPRegressor(hidden_layer_sizes=(10),\n",
    "                    activation=\"logistic\",\n",
    "                    verbose=True)\n",
    "# 激活函数很关键，relu 和 identity 基本不工作\n",
    "# batch_size 影响也很大\n",
    "mlpr.fit(train_data,train_labels)"
   ]
  },
  {
   "cell_type": "code",
   "execution_count": 6,
   "metadata": {},
   "outputs": [
    {
     "name": "stdout",
     "output_type": "stream",
     "text": [
      "Fitting 10 folds for each of 8 candidates, totalling 80 fits\n",
      "[CV] alpha=0.001, activation=tanh, batch_size=100, learning_rate=invscaling, hidden_layer_sizes=(10,) \n"
     ]
    },
    {
     "name": "stderr",
     "output_type": "stream",
     "text": [
      "[Parallel(n_jobs=1)]: Using backend SequentialBackend with 1 concurrent workers.\n"
     ]
    },
    {
     "name": "stdout",
     "output_type": "stream",
     "text": [
      "[CV]  alpha=0.001, activation=tanh, batch_size=100, learning_rate=invscaling, hidden_layer_sizes=(10,), total=   0.5s\n",
      "[CV] alpha=0.001, activation=tanh, batch_size=100, learning_rate=invscaling, hidden_layer_sizes=(10,) \n"
     ]
    },
    {
     "name": "stderr",
     "output_type": "stream",
     "text": [
      "[Parallel(n_jobs=1)]: Done   1 out of   1 | elapsed:    0.5s remaining:    0.0s\n"
     ]
    },
    {
     "name": "stdout",
     "output_type": "stream",
     "text": [
      "[CV]  alpha=0.001, activation=tanh, batch_size=100, learning_rate=invscaling, hidden_layer_sizes=(10,), total=   0.7s\n",
      "[CV] alpha=0.001, activation=tanh, batch_size=100, learning_rate=invscaling, hidden_layer_sizes=(10,) \n",
      "[CV]  alpha=0.001, activation=tanh, batch_size=100, learning_rate=invscaling, hidden_layer_sizes=(10,), total=   0.4s\n",
      "[CV] alpha=0.001, activation=tanh, batch_size=100, learning_rate=invscaling, hidden_layer_sizes=(10,) \n",
      "[CV]  alpha=0.001, activation=tanh, batch_size=100, learning_rate=invscaling, hidden_layer_sizes=(10,), total=   0.5s\n",
      "[CV] alpha=0.001, activation=tanh, batch_size=100, learning_rate=invscaling, hidden_layer_sizes=(10,) \n",
      "[CV]  alpha=0.001, activation=tanh, batch_size=100, learning_rate=invscaling, hidden_layer_sizes=(10,), total=   0.6s\n",
      "[CV] alpha=0.001, activation=tanh, batch_size=100, learning_rate=invscaling, hidden_layer_sizes=(10,) \n",
      "[CV]  alpha=0.001, activation=tanh, batch_size=100, learning_rate=invscaling, hidden_layer_sizes=(10,), total=   0.4s\n",
      "[CV] alpha=0.001, activation=tanh, batch_size=100, learning_rate=invscaling, hidden_layer_sizes=(10,) \n",
      "[CV]  alpha=0.001, activation=tanh, batch_size=100, learning_rate=invscaling, hidden_layer_sizes=(10,), total=   0.7s\n",
      "[CV] alpha=0.001, activation=tanh, batch_size=100, learning_rate=invscaling, hidden_layer_sizes=(10,) \n",
      "[CV]  alpha=0.001, activation=tanh, batch_size=100, learning_rate=invscaling, hidden_layer_sizes=(10,), total=   0.5s\n",
      "[CV] alpha=0.001, activation=tanh, batch_size=100, learning_rate=invscaling, hidden_layer_sizes=(10,) \n",
      "[CV]  alpha=0.001, activation=tanh, batch_size=100, learning_rate=invscaling, hidden_layer_sizes=(10,), total=   0.5s\n",
      "[CV] alpha=0.001, activation=tanh, batch_size=100, learning_rate=invscaling, hidden_layer_sizes=(10,) \n",
      "[CV]  alpha=0.001, activation=tanh, batch_size=100, learning_rate=invscaling, hidden_layer_sizes=(10,), total=   0.5s\n",
      "[CV] alpha=0.001, activation=tanh, batch_size=100, learning_rate=adaptive, hidden_layer_sizes=(10,) \n",
      "[CV]  alpha=0.001, activation=tanh, batch_size=100, learning_rate=adaptive, hidden_layer_sizes=(10,), total=   0.5s\n",
      "[CV] alpha=0.001, activation=tanh, batch_size=100, learning_rate=adaptive, hidden_layer_sizes=(10,) \n",
      "[CV]  alpha=0.001, activation=tanh, batch_size=100, learning_rate=adaptive, hidden_layer_sizes=(10,), total=   0.5s\n",
      "[CV] alpha=0.001, activation=tanh, batch_size=100, learning_rate=adaptive, hidden_layer_sizes=(10,) \n",
      "[CV]  alpha=0.001, activation=tanh, batch_size=100, learning_rate=adaptive, hidden_layer_sizes=(10,), total=   0.4s\n",
      "[CV] alpha=0.001, activation=tanh, batch_size=100, learning_rate=adaptive, hidden_layer_sizes=(10,) \n",
      "[CV]  alpha=0.001, activation=tanh, batch_size=100, learning_rate=adaptive, hidden_layer_sizes=(10,), total=   0.5s\n",
      "[CV] alpha=0.001, activation=tanh, batch_size=100, learning_rate=adaptive, hidden_layer_sizes=(10,) \n",
      "[CV]  alpha=0.001, activation=tanh, batch_size=100, learning_rate=adaptive, hidden_layer_sizes=(10,), total=   0.7s\n",
      "[CV] alpha=0.001, activation=tanh, batch_size=100, learning_rate=adaptive, hidden_layer_sizes=(10,) \n",
      "[CV]  alpha=0.001, activation=tanh, batch_size=100, learning_rate=adaptive, hidden_layer_sizes=(10,), total=   0.6s\n",
      "[CV] alpha=0.001, activation=tanh, batch_size=100, learning_rate=adaptive, hidden_layer_sizes=(10,) \n",
      "[CV]  alpha=0.001, activation=tanh, batch_size=100, learning_rate=adaptive, hidden_layer_sizes=(10,), total=   0.6s\n",
      "[CV] alpha=0.001, activation=tanh, batch_size=100, learning_rate=adaptive, hidden_layer_sizes=(10,) \n",
      "[CV]  alpha=0.001, activation=tanh, batch_size=100, learning_rate=adaptive, hidden_layer_sizes=(10,), total=   0.7s\n",
      "[CV] alpha=0.001, activation=tanh, batch_size=100, learning_rate=adaptive, hidden_layer_sizes=(10,) \n",
      "[CV]  alpha=0.001, activation=tanh, batch_size=100, learning_rate=adaptive, hidden_layer_sizes=(10,), total=   0.6s\n",
      "[CV] alpha=0.001, activation=tanh, batch_size=100, learning_rate=adaptive, hidden_layer_sizes=(10,) \n",
      "[CV]  alpha=0.001, activation=tanh, batch_size=100, learning_rate=adaptive, hidden_layer_sizes=(10,), total=   0.7s\n",
      "[CV] alpha=0.0001, activation=tanh, batch_size=100, learning_rate=invscaling, hidden_layer_sizes=(10,) \n",
      "[CV]  alpha=0.0001, activation=tanh, batch_size=100, learning_rate=invscaling, hidden_layer_sizes=(10,), total=   0.4s\n",
      "[CV] alpha=0.0001, activation=tanh, batch_size=100, learning_rate=invscaling, hidden_layer_sizes=(10,) \n",
      "[CV]  alpha=0.0001, activation=tanh, batch_size=100, learning_rate=invscaling, hidden_layer_sizes=(10,), total=   0.4s\n",
      "[CV] alpha=0.0001, activation=tanh, batch_size=100, learning_rate=invscaling, hidden_layer_sizes=(10,) \n",
      "[CV]  alpha=0.0001, activation=tanh, batch_size=100, learning_rate=invscaling, hidden_layer_sizes=(10,), total=   0.3s\n",
      "[CV] alpha=0.0001, activation=tanh, batch_size=100, learning_rate=invscaling, hidden_layer_sizes=(10,) \n",
      "[CV]  alpha=0.0001, activation=tanh, batch_size=100, learning_rate=invscaling, hidden_layer_sizes=(10,), total=   0.5s\n",
      "[CV] alpha=0.0001, activation=tanh, batch_size=100, learning_rate=invscaling, hidden_layer_sizes=(10,) \n",
      "[CV]  alpha=0.0001, activation=tanh, batch_size=100, learning_rate=invscaling, hidden_layer_sizes=(10,), total=   0.5s\n",
      "[CV] alpha=0.0001, activation=tanh, batch_size=100, learning_rate=invscaling, hidden_layer_sizes=(10,) \n",
      "[CV]  alpha=0.0001, activation=tanh, batch_size=100, learning_rate=invscaling, hidden_layer_sizes=(10,), total=   0.4s\n",
      "[CV] alpha=0.0001, activation=tanh, batch_size=100, learning_rate=invscaling, hidden_layer_sizes=(10,) \n",
      "[CV]  alpha=0.0001, activation=tanh, batch_size=100, learning_rate=invscaling, hidden_layer_sizes=(10,), total=   0.5s\n",
      "[CV] alpha=0.0001, activation=tanh, batch_size=100, learning_rate=invscaling, hidden_layer_sizes=(10,) \n",
      "[CV]  alpha=0.0001, activation=tanh, batch_size=100, learning_rate=invscaling, hidden_layer_sizes=(10,), total=   0.4s\n",
      "[CV] alpha=0.0001, activation=tanh, batch_size=100, learning_rate=invscaling, hidden_layer_sizes=(10,) \n",
      "[CV]  alpha=0.0001, activation=tanh, batch_size=100, learning_rate=invscaling, hidden_layer_sizes=(10,), total=   0.5s\n",
      "[CV] alpha=0.0001, activation=tanh, batch_size=100, learning_rate=invscaling, hidden_layer_sizes=(10,) \n",
      "[CV]  alpha=0.0001, activation=tanh, batch_size=100, learning_rate=invscaling, hidden_layer_sizes=(10,), total=   0.5s\n",
      "[CV] alpha=0.0001, activation=tanh, batch_size=100, learning_rate=adaptive, hidden_layer_sizes=(10,) \n",
      "[CV]  alpha=0.0001, activation=tanh, batch_size=100, learning_rate=adaptive, hidden_layer_sizes=(10,), total=   0.7s\n",
      "[CV] alpha=0.0001, activation=tanh, batch_size=100, learning_rate=adaptive, hidden_layer_sizes=(10,) \n",
      "[CV]  alpha=0.0001, activation=tanh, batch_size=100, learning_rate=adaptive, hidden_layer_sizes=(10,), total=   0.8s\n",
      "[CV] alpha=0.0001, activation=tanh, batch_size=100, learning_rate=adaptive, hidden_layer_sizes=(10,) \n",
      "[CV]  alpha=0.0001, activation=tanh, batch_size=100, learning_rate=adaptive, hidden_layer_sizes=(10,), total=   0.6s\n",
      "[CV] alpha=0.0001, activation=tanh, batch_size=100, learning_rate=adaptive, hidden_layer_sizes=(10,) \n",
      "[CV]  alpha=0.0001, activation=tanh, batch_size=100, learning_rate=adaptive, hidden_layer_sizes=(10,), total=   0.5s\n",
      "[CV] alpha=0.0001, activation=tanh, batch_size=100, learning_rate=adaptive, hidden_layer_sizes=(10,) \n",
      "[CV]  alpha=0.0001, activation=tanh, batch_size=100, learning_rate=adaptive, hidden_layer_sizes=(10,), total=   0.9s\n",
      "[CV] alpha=0.0001, activation=tanh, batch_size=100, learning_rate=adaptive, hidden_layer_sizes=(10,) \n",
      "[CV]  alpha=0.0001, activation=tanh, batch_size=100, learning_rate=adaptive, hidden_layer_sizes=(10,), total=   0.8s\n",
      "[CV] alpha=0.0001, activation=tanh, batch_size=100, learning_rate=adaptive, hidden_layer_sizes=(10,) \n",
      "[CV]  alpha=0.0001, activation=tanh, batch_size=100, learning_rate=adaptive, hidden_layer_sizes=(10,), total=   1.2s\n",
      "[CV] alpha=0.0001, activation=tanh, batch_size=100, learning_rate=adaptive, hidden_layer_sizes=(10,) \n",
      "[CV]  alpha=0.0001, activation=tanh, batch_size=100, learning_rate=adaptive, hidden_layer_sizes=(10,), total=   1.0s\n",
      "[CV] alpha=0.0001, activation=tanh, batch_size=100, learning_rate=adaptive, hidden_layer_sizes=(10,) \n",
      "[CV]  alpha=0.0001, activation=tanh, batch_size=100, learning_rate=adaptive, hidden_layer_sizes=(10,), total=   0.7s\n",
      "[CV] alpha=0.0001, activation=tanh, batch_size=100, learning_rate=adaptive, hidden_layer_sizes=(10,) \n"
     ]
    },
    {
     "name": "stdout",
     "output_type": "stream",
     "text": [
      "[CV]  alpha=0.0001, activation=tanh, batch_size=100, learning_rate=adaptive, hidden_layer_sizes=(10,), total=   0.5s\n",
      "[CV] alpha=0.001, activation=logistic, batch_size=100, learning_rate=invscaling, hidden_layer_sizes=(10,) \n",
      "[CV]  alpha=0.001, activation=logistic, batch_size=100, learning_rate=invscaling, hidden_layer_sizes=(10,), total=   0.7s\n",
      "[CV] alpha=0.001, activation=logistic, batch_size=100, learning_rate=invscaling, hidden_layer_sizes=(10,) \n",
      "[CV]  alpha=0.001, activation=logistic, batch_size=100, learning_rate=invscaling, hidden_layer_sizes=(10,), total=   0.5s\n",
      "[CV] alpha=0.001, activation=logistic, batch_size=100, learning_rate=invscaling, hidden_layer_sizes=(10,) \n",
      "[CV]  alpha=0.001, activation=logistic, batch_size=100, learning_rate=invscaling, hidden_layer_sizes=(10,), total=   0.6s\n",
      "[CV] alpha=0.001, activation=logistic, batch_size=100, learning_rate=invscaling, hidden_layer_sizes=(10,) \n",
      "[CV]  alpha=0.001, activation=logistic, batch_size=100, learning_rate=invscaling, hidden_layer_sizes=(10,), total=   0.5s\n",
      "[CV] alpha=0.001, activation=logistic, batch_size=100, learning_rate=invscaling, hidden_layer_sizes=(10,) \n",
      "[CV]  alpha=0.001, activation=logistic, batch_size=100, learning_rate=invscaling, hidden_layer_sizes=(10,), total=   0.7s\n",
      "[CV] alpha=0.001, activation=logistic, batch_size=100, learning_rate=invscaling, hidden_layer_sizes=(10,) \n",
      "[CV]  alpha=0.001, activation=logistic, batch_size=100, learning_rate=invscaling, hidden_layer_sizes=(10,), total=   0.5s\n",
      "[CV] alpha=0.001, activation=logistic, batch_size=100, learning_rate=invscaling, hidden_layer_sizes=(10,) \n",
      "[CV]  alpha=0.001, activation=logistic, batch_size=100, learning_rate=invscaling, hidden_layer_sizes=(10,), total=   0.7s\n",
      "[CV] alpha=0.001, activation=logistic, batch_size=100, learning_rate=invscaling, hidden_layer_sizes=(10,) \n",
      "[CV]  alpha=0.001, activation=logistic, batch_size=100, learning_rate=invscaling, hidden_layer_sizes=(10,), total=   0.8s\n",
      "[CV] alpha=0.001, activation=logistic, batch_size=100, learning_rate=invscaling, hidden_layer_sizes=(10,) \n",
      "[CV]  alpha=0.001, activation=logistic, batch_size=100, learning_rate=invscaling, hidden_layer_sizes=(10,), total=   0.7s\n",
      "[CV] alpha=0.001, activation=logistic, batch_size=100, learning_rate=invscaling, hidden_layer_sizes=(10,) \n",
      "[CV]  alpha=0.001, activation=logistic, batch_size=100, learning_rate=invscaling, hidden_layer_sizes=(10,), total=   0.7s\n",
      "[CV] alpha=0.001, activation=logistic, batch_size=100, learning_rate=adaptive, hidden_layer_sizes=(10,) \n",
      "[CV]  alpha=0.001, activation=logistic, batch_size=100, learning_rate=adaptive, hidden_layer_sizes=(10,), total=   0.8s\n",
      "[CV] alpha=0.001, activation=logistic, batch_size=100, learning_rate=adaptive, hidden_layer_sizes=(10,) \n",
      "[CV]  alpha=0.001, activation=logistic, batch_size=100, learning_rate=adaptive, hidden_layer_sizes=(10,), total=   0.7s\n",
      "[CV] alpha=0.001, activation=logistic, batch_size=100, learning_rate=adaptive, hidden_layer_sizes=(10,) \n",
      "[CV]  alpha=0.001, activation=logistic, batch_size=100, learning_rate=adaptive, hidden_layer_sizes=(10,), total=   0.7s\n",
      "[CV] alpha=0.001, activation=logistic, batch_size=100, learning_rate=adaptive, hidden_layer_sizes=(10,) \n",
      "[CV]  alpha=0.001, activation=logistic, batch_size=100, learning_rate=adaptive, hidden_layer_sizes=(10,), total=   0.6s\n",
      "[CV] alpha=0.001, activation=logistic, batch_size=100, learning_rate=adaptive, hidden_layer_sizes=(10,) \n",
      "[CV]  alpha=0.001, activation=logistic, batch_size=100, learning_rate=adaptive, hidden_layer_sizes=(10,), total=   0.6s\n",
      "[CV] alpha=0.001, activation=logistic, batch_size=100, learning_rate=adaptive, hidden_layer_sizes=(10,) \n",
      "[CV]  alpha=0.001, activation=logistic, batch_size=100, learning_rate=adaptive, hidden_layer_sizes=(10,), total=   0.6s\n",
      "[CV] alpha=0.001, activation=logistic, batch_size=100, learning_rate=adaptive, hidden_layer_sizes=(10,) \n",
      "[CV]  alpha=0.001, activation=logistic, batch_size=100, learning_rate=adaptive, hidden_layer_sizes=(10,), total=   1.0s\n",
      "[CV] alpha=0.001, activation=logistic, batch_size=100, learning_rate=adaptive, hidden_layer_sizes=(10,) \n",
      "[CV]  alpha=0.001, activation=logistic, batch_size=100, learning_rate=adaptive, hidden_layer_sizes=(10,), total=   0.6s\n",
      "[CV] alpha=0.001, activation=logistic, batch_size=100, learning_rate=adaptive, hidden_layer_sizes=(10,) \n",
      "[CV]  alpha=0.001, activation=logistic, batch_size=100, learning_rate=adaptive, hidden_layer_sizes=(10,), total=   0.6s\n",
      "[CV] alpha=0.001, activation=logistic, batch_size=100, learning_rate=adaptive, hidden_layer_sizes=(10,) \n",
      "[CV]  alpha=0.001, activation=logistic, batch_size=100, learning_rate=adaptive, hidden_layer_sizes=(10,), total=   0.7s\n",
      "[CV] alpha=0.0001, activation=logistic, batch_size=100, learning_rate=invscaling, hidden_layer_sizes=(10,) \n",
      "[CV]  alpha=0.0001, activation=logistic, batch_size=100, learning_rate=invscaling, hidden_layer_sizes=(10,), total=   0.7s\n",
      "[CV] alpha=0.0001, activation=logistic, batch_size=100, learning_rate=invscaling, hidden_layer_sizes=(10,) \n",
      "[CV]  alpha=0.0001, activation=logistic, batch_size=100, learning_rate=invscaling, hidden_layer_sizes=(10,), total=   0.6s\n",
      "[CV] alpha=0.0001, activation=logistic, batch_size=100, learning_rate=invscaling, hidden_layer_sizes=(10,) \n",
      "[CV]  alpha=0.0001, activation=logistic, batch_size=100, learning_rate=invscaling, hidden_layer_sizes=(10,), total=   0.7s\n",
      "[CV] alpha=0.0001, activation=logistic, batch_size=100, learning_rate=invscaling, hidden_layer_sizes=(10,) \n",
      "[CV]  alpha=0.0001, activation=logistic, batch_size=100, learning_rate=invscaling, hidden_layer_sizes=(10,), total=   0.5s\n",
      "[CV] alpha=0.0001, activation=logistic, batch_size=100, learning_rate=invscaling, hidden_layer_sizes=(10,) \n",
      "[CV]  alpha=0.0001, activation=logistic, batch_size=100, learning_rate=invscaling, hidden_layer_sizes=(10,), total=   0.7s\n",
      "[CV] alpha=0.0001, activation=logistic, batch_size=100, learning_rate=invscaling, hidden_layer_sizes=(10,) \n",
      "[CV]  alpha=0.0001, activation=logistic, batch_size=100, learning_rate=invscaling, hidden_layer_sizes=(10,), total=   0.5s\n",
      "[CV] alpha=0.0001, activation=logistic, batch_size=100, learning_rate=invscaling, hidden_layer_sizes=(10,) \n",
      "[CV]  alpha=0.0001, activation=logistic, batch_size=100, learning_rate=invscaling, hidden_layer_sizes=(10,), total=   0.7s\n",
      "[CV] alpha=0.0001, activation=logistic, batch_size=100, learning_rate=invscaling, hidden_layer_sizes=(10,) \n",
      "[CV]  alpha=0.0001, activation=logistic, batch_size=100, learning_rate=invscaling, hidden_layer_sizes=(10,), total=   0.4s\n",
      "[CV] alpha=0.0001, activation=logistic, batch_size=100, learning_rate=invscaling, hidden_layer_sizes=(10,) \n",
      "[CV]  alpha=0.0001, activation=logistic, batch_size=100, learning_rate=invscaling, hidden_layer_sizes=(10,), total=   0.4s\n",
      "[CV] alpha=0.0001, activation=logistic, batch_size=100, learning_rate=invscaling, hidden_layer_sizes=(10,) \n",
      "[CV]  alpha=0.0001, activation=logistic, batch_size=100, learning_rate=invscaling, hidden_layer_sizes=(10,), total=   0.5s\n",
      "[CV] alpha=0.0001, activation=logistic, batch_size=100, learning_rate=adaptive, hidden_layer_sizes=(10,) \n",
      "[CV]  alpha=0.0001, activation=logistic, batch_size=100, learning_rate=adaptive, hidden_layer_sizes=(10,), total=   0.6s\n",
      "[CV] alpha=0.0001, activation=logistic, batch_size=100, learning_rate=adaptive, hidden_layer_sizes=(10,) \n",
      "[CV]  alpha=0.0001, activation=logistic, batch_size=100, learning_rate=adaptive, hidden_layer_sizes=(10,), total=   0.4s\n",
      "[CV] alpha=0.0001, activation=logistic, batch_size=100, learning_rate=adaptive, hidden_layer_sizes=(10,) \n",
      "[CV]  alpha=0.0001, activation=logistic, batch_size=100, learning_rate=adaptive, hidden_layer_sizes=(10,), total=   0.5s\n",
      "[CV] alpha=0.0001, activation=logistic, batch_size=100, learning_rate=adaptive, hidden_layer_sizes=(10,) \n",
      "[CV]  alpha=0.0001, activation=logistic, batch_size=100, learning_rate=adaptive, hidden_layer_sizes=(10,), total=   0.7s\n",
      "[CV] alpha=0.0001, activation=logistic, batch_size=100, learning_rate=adaptive, hidden_layer_sizes=(10,) \n",
      "[CV]  alpha=0.0001, activation=logistic, batch_size=100, learning_rate=adaptive, hidden_layer_sizes=(10,), total=   0.4s\n",
      "[CV] alpha=0.0001, activation=logistic, batch_size=100, learning_rate=adaptive, hidden_layer_sizes=(10,) \n"
     ]
    },
    {
     "name": "stdout",
     "output_type": "stream",
     "text": [
      "[CV]  alpha=0.0001, activation=logistic, batch_size=100, learning_rate=adaptive, hidden_layer_sizes=(10,), total=   0.7s\n",
      "[CV] alpha=0.0001, activation=logistic, batch_size=100, learning_rate=adaptive, hidden_layer_sizes=(10,) \n",
      "[CV]  alpha=0.0001, activation=logistic, batch_size=100, learning_rate=adaptive, hidden_layer_sizes=(10,), total=   0.4s\n",
      "[CV] alpha=0.0001, activation=logistic, batch_size=100, learning_rate=adaptive, hidden_layer_sizes=(10,) \n",
      "[CV]  alpha=0.0001, activation=logistic, batch_size=100, learning_rate=adaptive, hidden_layer_sizes=(10,), total=   0.5s\n",
      "[CV] alpha=0.0001, activation=logistic, batch_size=100, learning_rate=adaptive, hidden_layer_sizes=(10,) \n",
      "[CV]  alpha=0.0001, activation=logistic, batch_size=100, learning_rate=adaptive, hidden_layer_sizes=(10,), total=   0.5s\n",
      "[CV] alpha=0.0001, activation=logistic, batch_size=100, learning_rate=adaptive, hidden_layer_sizes=(10,) \n",
      "[CV]  alpha=0.0001, activation=logistic, batch_size=100, learning_rate=adaptive, hidden_layer_sizes=(10,), total=   0.8s\n"
     ]
    },
    {
     "name": "stderr",
     "output_type": "stream",
     "text": [
      "[Parallel(n_jobs=1)]: Done  80 out of  80 | elapsed:   48.4s finished\n"
     ]
    },
    {
     "data": {
      "text/plain": [
       "GridSearchCV(cv=10, error_score='raise-deprecating',\n",
       "       estimator=MLPRegressor(activation='relu', alpha=0.0001, batch_size='auto', beta_1=0.9,\n",
       "       beta_2=0.999, early_stopping=False, epsilon=1e-08,\n",
       "       hidden_layer_sizes=(100,), learning_rate='constant',\n",
       "       learning_rate_init=0.001, max_iter=200, momentum=0.9,\n",
       "       n_iter_no_change=10, nesterovs_momentum=True, power_t=0.5,\n",
       "       random_state=None, shuffle=True, solver='adam', tol=0.0001,\n",
       "       validation_fraction=0.1, verbose=False, warm_start=False),\n",
       "       fit_params=None, iid='warn', n_jobs=None,\n",
       "       param_grid={'alpha': [0.001, 0.0001], 'activation': ['tanh', 'logistic'], 'batch_size': [100], 'learning_rate': ['invscaling', 'adaptive'], 'hidden_layer_sizes': [(10,)]},\n",
       "       pre_dispatch='2*n_jobs', refit=True, return_train_score='warn',\n",
       "       scoring=None, verbose=2)"
      ]
     },
     "execution_count": 6,
     "metadata": {},
     "output_type": "execute_result"
    }
   ],
   "source": [
    "\n",
    "mlp_params = {\n",
    "    \"hidden_layer_sizes\": [(10,)],\n",
    "    \"alpha\":[0.001,0.0001],\n",
    "    \"activation\":[\"tanh\",\"logistic\"],\n",
    "    \"batch_size\":[100,],\n",
    "    \"learning_rate\":[\"invscaling\",\"adaptive\"]\n",
    "}\n",
    "mlpr = MLPRegressor()\n",
    "clf = GridSearchCV(mlpr,mlp_params,cv=10,verbose=2)\n",
    "clf.fit(data,labels)"
   ]
  },
  {
   "cell_type": "code",
   "execution_count": 11,
   "metadata": {},
   "outputs": [
    {
     "name": "stdout",
     "output_type": "stream",
     "text": [
      "{'mean_fit_time': array([0.5225352 , 0.58133426, 0.44092915, 0.77458637, 0.63904798,\n",
      "       0.70647542, 0.57195759, 0.55776002]),\n",
      " 'mean_score_time': array([0.00153344, 0.00062404, 0.00061574, 0.00149007, 0.00083222,\n",
      "       0.00075879, 0.0007756 , 0.00076096]),\n",
      " 'mean_test_score': array([-0.0631476 , -0.01734136, -0.25739354, -0.00073032, -0.00077843,\n",
      "       -0.00062035, -0.00106806, -0.0032753 ]),\n",
      " 'mean_train_score': array([-0.09946994, -0.01087513, -0.14944942, -0.000678  , -0.00122506,\n",
      "       -0.00030993, -0.00092238, -0.00315101]),\n",
      " 'param_activation': masked_array(data=['tanh', 'tanh', 'tanh', 'tanh', 'logistic', 'logistic',\n",
      "                   'logistic', 'logistic'],\n",
      "             mask=[False, False, False, False, False, False, False, False],\n",
      "       fill_value='?',\n",
      "            dtype=object),\n",
      " 'param_alpha': masked_array(data=[0.001, 0.001, 0.0001, 0.0001, 0.001, 0.001, 0.0001,\n",
      "                   0.0001],\n",
      "             mask=[False, False, False, False, False, False, False, False],\n",
      "       fill_value='?',\n",
      "            dtype=object),\n",
      " 'param_batch_size': masked_array(data=[100, 100, 100, 100, 100, 100, 100, 100],\n",
      "             mask=[False, False, False, False, False, False, False, False],\n",
      "       fill_value='?',\n",
      "            dtype=object),\n",
      " 'param_hidden_layer_sizes': masked_array(data=[(10,), (10,), (10,), (10,), (10,), (10,), (10,), (10,)],\n",
      "             mask=[False, False, False, False, False, False, False, False],\n",
      "       fill_value='?',\n",
      "            dtype=object),\n",
      " 'param_learning_rate': masked_array(data=['invscaling', 'adaptive', 'invscaling', 'adaptive',\n",
      "                   'invscaling', 'adaptive', 'invscaling', 'adaptive'],\n",
      "             mask=[False, False, False, False, False, False, False, False],\n",
      "       fill_value='?',\n",
      "            dtype=object),\n",
      " 'params': [{'activation': 'tanh',\n",
      "             'alpha': 0.001,\n",
      "             'batch_size': 100,\n",
      "             'hidden_layer_sizes': (10,),\n",
      "             'learning_rate': 'invscaling'},\n",
      "            {'activation': 'tanh',\n",
      "             'alpha': 0.001,\n",
      "             'batch_size': 100,\n",
      "             'hidden_layer_sizes': (10,),\n",
      "             'learning_rate': 'adaptive'},\n",
      "            {'activation': 'tanh',\n",
      "             'alpha': 0.0001,\n",
      "             'batch_size': 100,\n",
      "             'hidden_layer_sizes': (10,),\n",
      "             'learning_rate': 'invscaling'},\n",
      "            {'activation': 'tanh',\n",
      "             'alpha': 0.0001,\n",
      "             'batch_size': 100,\n",
      "             'hidden_layer_sizes': (10,),\n",
      "             'learning_rate': 'adaptive'},\n",
      "            {'activation': 'logistic',\n",
      "             'alpha': 0.001,\n",
      "             'batch_size': 100,\n",
      "             'hidden_layer_sizes': (10,),\n",
      "             'learning_rate': 'invscaling'},\n",
      "            {'activation': 'logistic',\n",
      "             'alpha': 0.001,\n",
      "             'batch_size': 100,\n",
      "             'hidden_layer_sizes': (10,),\n",
      "             'learning_rate': 'adaptive'},\n",
      "            {'activation': 'logistic',\n",
      "             'alpha': 0.0001,\n",
      "             'batch_size': 100,\n",
      "             'hidden_layer_sizes': (10,),\n",
      "             'learning_rate': 'invscaling'},\n",
      "            {'activation': 'logistic',\n",
      "             'alpha': 0.0001,\n",
      "             'batch_size': 100,\n",
      "             'hidden_layer_sizes': (10,),\n",
      "             'learning_rate': 'adaptive'}],\n",
      " 'rank_test_score': array([7, 6, 8, 2, 3, 1, 4, 5], dtype=int32),\n",
      " 'split0_test_score': array([-4.22789589e-05, -1.20569518e-03, -4.26624804e-03, -1.87070727e-03,\n",
      "       -2.15280069e-04, -2.48114829e-05, -1.20215203e-04, -1.59248217e-02]),\n",
      " 'split0_train_score': array([-1.10226660e-06, -1.13323416e-03, -6.71545840e-03, -1.89395713e-03,\n",
      "       -1.10078493e-04, -1.49350521e-04, -3.85203439e-05, -1.94245441e-02]),\n",
      " 'split1_test_score': array([-2.43614063e-04, -1.14679502e-06, -1.53455285e-04, -1.42910628e-08,\n",
      "       -2.21510566e-04, -1.14229092e-04, -1.79501625e-06, -4.10104243e-03]),\n",
      " 'split1_train_score': array([-3.32902217e-05, -1.31701045e-04, -5.95303933e-06, -1.10091205e-04,\n",
      "       -2.52026229e-05, -4.65405796e-07, -8.07034856e-05, -3.11888533e-03]),\n",
      " 'split2_test_score': array([-1.54754638e-04, -1.66771760e-04, -1.03472493e-02, -3.13268429e-06,\n",
      "       -3.67562412e-07, -1.32854486e-05, -9.06011455e-04, -5.63485303e-04]),\n",
      " 'split2_train_score': array([-1.24230416e-06, -2.29609228e-06, -9.10082459e-03, -1.18779929e-04,\n",
      "       -7.90278150e-05, -3.99533176e-05, -1.21445652e-03, -1.13759749e-04]),\n",
      " 'split3_test_score': array([-8.31117104e-04, -1.70056328e-01, -1.76306572e+00, -6.47182235e-04,\n",
      "       -6.15540038e-04, -1.22856927e-03, -1.24849777e-04, -3.35123267e-03]),\n",
      " 'split3_train_score': array([-2.60342781e-04, -1.06379349e-01, -1.07403216e+00, -1.82403080e-04,\n",
      "       -6.49163093e-04, -4.39410310e-04, -5.94306034e-06, -2.61553349e-03]),\n",
      " 'split4_test_score': array([-4.23073996e-02, -2.14109387e-04, -3.56790359e-04, -7.76615468e-05,\n",
      "       -3.77552670e-04, -8.17097432e-04, -7.38528864e-05, -3.63454496e-03]),\n",
      " 'split4_train_score': array([-1.36381186e-02, -6.69273913e-05, -2.91267966e-05, -5.52983599e-04,\n",
      "       -2.54271830e-05, -8.92917556e-07, -1.47152620e-04, -4.70040592e-04]),\n",
      " 'split5_test_score': array([-1.44653562e-02, -4.52812888e-05, -7.42188332e-01, -3.57929947e-03,\n",
      "       -5.15208566e-04, -1.27348867e-03, -2.57648870e-03, -1.30456113e-03]),\n",
      " 'split5_train_score': array([-1.00493299e-02, -6.91804526e-05, -3.72594049e-01, -3.19155387e-03,\n",
      "       -1.05080812e-05, -1.52250980e-03, -5.54758461e-04, -1.54705219e-03]),\n",
      " 'split6_test_score': array([-8.27976108e-08, -2.34632196e-04, -5.13572174e-02, -9.38013199e-04,\n",
      "       -3.06526319e-04, -4.95504073e-04, -1.87593914e-04, -1.00720201e-05]),\n",
      " 'split6_train_score': array([-2.89450944e-04, -9.27289661e-04, -3.16438433e-02, -8.30374816e-05,\n",
      "       -1.04571025e-03, -3.63828072e-06, -8.44214488e-04, -3.99757290e-04]),\n",
      " 'split7_test_score': array([-4.99096944e-05, -1.80656718e-04, -4.58542263e-04, -5.36594835e-05,\n",
      "       -1.88805932e-04, -3.88483316e-04, -2.69626651e-06, -7.63548252e-04]),\n",
      " 'split7_train_score': array([-1.47962068e-04, -6.72257040e-06, -8.78896751e-05, -1.38599004e-04,\n",
      "       -4.59140667e-06, -4.64806952e-05, -6.36727396e-04, -3.50058385e-04]),\n",
      " 'split8_test_score': array([-5.39218810e-01, -4.22823817e-05, -3.43674345e-04, -9.26910002e-05,\n",
      "       -5.09249988e-03, -8.37416640e-04, -1.94606962e-03, -2.59918483e-03]),\n",
      " 'split8_train_score': array([-9.27958386e-01, -4.24590132e-07, -2.66110542e-04, -2.22599347e-05,\n",
      "       -1.01336308e-02, -8.90727495e-04, -4.25251588e-03, -3.42563698e-03]),\n",
      " 'split9_test_score': array([-3.41337041e-02, -1.25060760e-03, -1.14191049e-03, -4.01414583e-05,\n",
      "       -2.50440829e-04, -1.01098009e-03, -4.74466119e-03, -4.97746900e-04]),\n",
      " 'split9_train_score': array([-4.23201855e-02, -3.41981276e-05, -1.88113623e-05, -4.86321190e-04,\n",
      "       -1.67229351e-04, -5.84913085e-06, -1.44883033e-03, -4.48726416e-05]),\n",
      " 'std_fit_time': array([0.09912523, 0.1014658 , 0.05776968, 0.2123315 , 0.08393422,\n",
      "       0.12276627, 0.13239466, 0.13502637]),\n",
      " 'std_score_time': array([2.62027254e-03, 1.35236936e-05, 8.88070003e-06, 2.54387334e-03,\n",
      "       2.48293673e-04, 1.54274323e-05, 5.62010245e-05, 2.78554233e-05]),\n",
      " 'std_test_score': array([1.59396991e-01, 5.09097249e-02, 5.47709847e-01, 1.10891237e-03,\n",
      "       1.44745767e-03, 4.56475240e-04, 1.49673917e-03, 4.44093880e-03]),\n",
      " 'std_train_score': array([0.27644931, 0.03183717, 0.32713139, 0.00099019, 0.0029874 ,\n",
      "       0.00048683, 0.00120854, 0.00556093])}\n",
      "{'activation': 'logistic',\n",
      " 'alpha': 0.001,\n",
      " 'batch_size': 100,\n",
      " 'hidden_layer_sizes': (10,),\n",
      " 'learning_rate': 'adaptive'}\n"
     ]
    }
   ],
   "source": [
    "import pprint\n",
    "\n",
    "pprint.pprint(clf.cv_results_)\n",
    "pprint.pprint(clf.best_params_)\n",
    "\n",
    "# {'activation': 'logistic',\n",
    "#              'alpha': 0.001,\n",
    "#              'batch_size': 100,\n",
    "#              'hidden_layer_sizes': (10,),\n",
    "#              'learning_rate': 'adaptive'}\n",
    "# mean_test_score -0.00062035\n",
    "# mean_train_score-0.00030993"
   ]
  },
  {
   "cell_type": "code",
   "execution_count": 26,
   "metadata": {},
   "outputs": [
    {
     "name": "stdout",
     "output_type": "stream",
     "text": [
      "R^2 for train data : -0.011877075948999893\n",
      "R^2 for test data : -0.02035362873631774\n",
      "squre error: 296.6277285861876\n"
     ]
    }
   ],
   "source": [
    "model_score(mlpr)\n",
    "# identity\n",
    "# R^2 for train data : -3997.586344025738\n",
    "# R^2 for test data : -7017.05380857338\n",
    "# squre error: 2040223.4104963774\n",
    "\n",
    "# tanh\n",
    "# R^2 for train data : -0.07547361342073389\n",
    "# R^2 for test data : -0.06581679977284316\n",
    "# squre error: 309.84435934937846\n",
    "\n",
    "# tanh alpha=0.0001->0.01 (L2 norm)\n",
    "# R^2 for train data : -0.011877075948999893\n",
    "# R^2 for test data : -0.02035362873631774\n",
    "# squre error: 296.6277285861876"
   ]
  },
  {
   "cell_type": "code",
   "execution_count": null,
   "metadata": {},
   "outputs": [],
   "source": []
  }
 ],
 "metadata": {
  "kernelspec": {
   "display_name": "Python 3",
   "language": "python",
   "name": "python3"
  },
  "language_info": {
   "codemirror_mode": {
    "name": "ipython",
    "version": 3
   },
   "file_extension": ".py",
   "mimetype": "text/x-python",
   "name": "python",
   "nbconvert_exporter": "python",
   "pygments_lexer": "ipython3",
   "version": "3.5.6"
  }
 },
 "nbformat": 4,
 "nbformat_minor": 2
}
